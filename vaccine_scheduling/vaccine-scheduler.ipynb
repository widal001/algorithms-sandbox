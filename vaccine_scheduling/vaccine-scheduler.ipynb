{
 "cells": [
  {
   "cell_type": "markdown",
   "id": "revolutionary-active",
   "metadata": {},
   "source": [
    "# Problem 1: Scheduling within Vaccine Facilities\n",
    "\n",
    "## Simplifying Assumptions\n",
    "\n",
    "- Each case of vaccines that the facility uses within a day are replaced by the next day\n",
    "- Vaccines have no expiration time\n",
    "- There is a consistent volume of \n",
    "\n",
    "## External Variables\n",
    "\n",
    "- Maximum occupancy of the facility\n",
    "- Number of minutes it takes a patient to register\n",
    "- Number of minutes it takes to administer a vaccine\n",
    "- Number of minutes a patient needs to be monitored for symptoms\n",
    "- Hours of operation\n",
    "\n",
    "## Output Variables\n",
    "\n",
    "- Optimize number of registration workers\n",
    "- Optimize number of workers administering vaccines"
   ]
  },
  {
   "cell_type": "code",
   "execution_count": 2,
   "id": "removable-natural",
   "metadata": {},
   "outputs": [],
   "source": [
    "occupancy = 100\n",
    "workflow = {\n",
    "    \"register\": 10,\n",
    "    \"vaccinate\": 10,\n",
    "    \"monitor\": 10,\n",
    "}\n",
    "op_hours = 8"
   ]
  },
  {
   "cell_type": "code",
   "execution_count": null,
   "id": "pointed-breathing",
   "metadata": {},
   "outputs": [],
   "source": [
    "def calibrate_staffing(occupancy, workflow):\n",
    "    r_time = workflow[\"register\"]\n",
    "    v_time = workflow[\"vaccinate\"]\n",
    "    m_time = workflow[\"monitor\"]\n",
    "    \n",
    "    z = \n",
    "    "
   ]
  },
  {
   "cell_type": "code",
   "execution_count": 6,
   "id": "fifth-aggregate",
   "metadata": {},
   "outputs": [
    {
     "data": {
      "text/plain": [
       "9"
      ]
     },
     "execution_count": 6,
     "metadata": {},
     "output_type": "execute_result"
    }
   ],
   "source": []
  },
  {
   "cell_type": "code",
   "execution_count": null,
   "id": "floral-infection",
   "metadata": {},
   "outputs": [],
   "source": []
  }
 ],
 "metadata": {
  "kernelspec": {
   "display_name": "Python 3",
   "language": "python",
   "name": "python3"
  },
  "language_info": {
   "codemirror_mode": {
    "name": "ipython",
    "version": 3
   },
   "file_extension": ".py",
   "mimetype": "text/x-python",
   "name": "python",
   "nbconvert_exporter": "python",
   "pygments_lexer": "ipython3",
   "version": "3.7.7"
  }
 },
 "nbformat": 4,
 "nbformat_minor": 5
}
